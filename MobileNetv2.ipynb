{
  "nbformat": 4,
  "nbformat_minor": 0,
  "metadata": {
    "accelerator": "GPU",
    "colab": {
      "name": "Assignment3.ipynb",
      "provenance": [],
      "collapsed_sections": []
    },
    "kernelspec": {
      "display_name": "Python 3",
      "name": "python3"
    },
    "language_info": {
      "name": "python"
    }
  },
  "cells": [
    {
      "cell_type": "markdown",
      "metadata": {
        "id": "8y-LCsgGSUiQ"
      },
      "source": [
        "Please write your code in Jupyter Notebook or Google Colab. \\\n",
        "You need to compress the Jupyter notebook and your saved model checkpoint into a zip file and submit the zip file to Canvas. \\\n",
        "**Note**: Please restart the Jupyter notebook kernel and check if your code is executable before submission."
      ]
    },
    {
      "cell_type": "markdown",
      "metadata": {
        "id": "3c5mfNfCSdzr"
      },
      "source": [
        "In this assignment, you need to implement a MobileNetV2 (https://arxiv.org/abs/1801.04381) for an image classification task. \n",
        "MobileNetV2 consists of many modules discussed in the class, such as 1x1 convolution layer, residual block, dropout, batch normalization.\n",
        "\n",
        "Please train and evaluate the neural network on the CIFAR10 dataset (https://www.cs.toronto.edu/~kriz/cifar.html). \n",
        "The CIFAR10 dataset is a classic dataset for the image classification task, which consists of 60000 32x32 RGB images in 10 classes. \n",
        "\n",
        "**Hints:**\n",
        "1. The original MobileNetV2 model is implemented on 224x224x3 images. You need to slightly change the model architecture to fit the image size of 32x32x3 in the CIFAR10 dataset.\n",
        "2. You are strongly encouraged to use the deep learning frameworks (e.g., Pytorch, Tensorflow, Keras) for building the model, but other frameworks are allowed. \n",
        "3. You can use the basic modules (Fully Connected Layer, Convolution Layer, Dropout, Batch Normalization, etc) in these frameworks, but the existing implementation of MobileNet is not allowed to use in this assignment. However, it would be helpful for you to learn from the existing implementation.\n",
        "4. You can use the CIFAR10 datasets provided by the frameworks (e.g., https://pytorch.org/vision/stable/datasets.html#cifar, https://www.tensorflow.org/api_docs/python/tf/keras/datasets/cifar10)."
      ]
    },
    {
      "cell_type": "markdown",
      "metadata": {
        "id": "HMsC-k2qSh2h"
      },
      "source": [
        "**This assignment will be graded as follows.**\n",
        "\n",
        "1. (10 pts) Load and preprocess data from the CIFAR10 dataset.\n",
        "1. (40 pts) Implement MobileNetV2 model.\n",
        "2. (20 pts) Train the model using a proper optimization method and loss function.\n",
        "3. (10 pts) Plot the training and test accuracy in each epoch (or iteration) in the Jupyter notebook.\n",
        "4. (5 pts)  Save the weights of final model in the same directory of Jupyter notebook.\n",
        "5. (5 pts)  Load the weights into your model and report the training and test accuracy.\n",
        "4. (10 pts) Report the number of parameters used in each layer (You can use the function provided by the deep learning frameworks).\n",
        "5. (10 pts) Bonus: The bonus points will be given if the test accuracy is higher than 90\\%."
      ]
    },
    {
      "cell_type": "code",
      "metadata": {
        "id": "YPW_H4U6IwAv"
      },
      "source": [
        "import pandas as pd\n",
        "import numpy as np\n",
        "import matplotlib.pyplot as plt\n",
        "import seaborn as sns\n",
        "import tensorflow as tf\n",
        "import tensorflow.keras as keras\n",
        "from tensorflow.keras import models, layers\n",
        "from tensorflow.keras.models import Model\n",
        "from tensorflow.keras.layers import BatchNormalization, Flatten,Conv2D, DepthwiseConv2D, Input, Add, AveragePooling2D,Dense\n",
        "from tensorflow.keras.optimizers import Adam,Nadam,SGD\n",
        "from tensorflow.keras.losses import CategoricalCrossentropy,SparseCategoricalCrossentropy"
      ],
      "execution_count": 1,
      "outputs": []
    },
    {
      "cell_type": "code",
      "metadata": {
        "id": "3qcNkjRHKFsM",
        "colab": {
          "base_uri": "https://localhost:8080/"
        },
        "outputId": "cff19d7e-7f7a-4819-ed00-2d1a8102b690"
      },
      "source": [
        "num_classes = 10  \n",
        "(X_train, y_train), (X_test, y_test) = tf.keras.datasets.cifar10.load_data()\n",
        "img_height, img_width, channel = X_train.shape[1],X_train.shape[2],X_train.shape[3]\n",
        "y_train = tf.keras.utils.to_categorical(y_train, num_classes)\n",
        "y_test = tf.keras.utils.to_categorical(y_test, num_classes) "
      ],
      "execution_count": 2,
      "outputs": [
        {
          "output_type": "stream",
          "text": [
            "Downloading data from https://www.cs.toronto.edu/~kriz/cifar-10-python.tar.gz\n",
            "170500096/170498071 [==============================] - 3s 0us/step\n"
          ],
          "name": "stdout"
        }
      ]
    },
    {
      "cell_type": "code",
      "metadata": {
        "id": "uQX4T-Z5KFqD",
        "colab": {
          "base_uri": "https://localhost:8080/"
        },
        "outputId": "a0cfc228-91ef-42a4-9c95-b4e4a8bc15d3"
      },
      "source": [
        "print('Shape of X_train  : ', X_train.shape)\n",
        "print('Shape of X_test : ', X_test.shape)\n",
        "print('Shape of y_train : ', y_train.shape)\n",
        "print('Shape of y_test : ', y_test.shape)"
      ],
      "execution_count": 3,
      "outputs": [
        {
          "output_type": "stream",
          "text": [
            "Shape of X_train  :  (50000, 32, 32, 3)\n",
            "Shape of X_test :  (10000, 32, 32, 3)\n",
            "Shape of y_train :  (50000, 10)\n",
            "Shape of y_test :  (10000, 10)\n"
          ],
          "name": "stdout"
        }
      ]
    },
    {
      "cell_type": "code",
      "metadata": {
        "id": "KkMN4nAvS8JF"
      },
      "source": [
        "X_train = X_train/255.0\n",
        "X_test = X_test/255.0"
      ],
      "execution_count": 4,
      "outputs": []
    },
    {
      "cell_type": "code",
      "metadata": {
        "id": "FY3sgqQJVNY6"
      },
      "source": [
        "def BottleNeck(input, t, c, s):\n",
        "  inp_filters = input.shape[-1]\n",
        "  if s == 1:\n",
        "    conv_1 = Conv2D(filters = inp_filters * t, kernel_size = 1)(input)  \n",
        "    BN = BatchNormalization()(conv_1)\n",
        "    Relu6 = tf.keras.activations.relu(BN, max_value=6)\n",
        "    \n",
        "    Dwise_3 = DepthwiseConv2D(kernel_size=3, padding = 'same')(Relu6)\n",
        "    BN = BatchNormalization()(Dwise_3)\n",
        "    Relu6 = tf.keras.activations.relu(BN, max_value=6)\n",
        "\n",
        "    conv_2 = Conv2D(filters = c, kernel_size = 1)(Relu6)  \n",
        "    BN_out = BatchNormalization()(conv_2)\n",
        "\n",
        "    if inp_filters != c:\n",
        "        reduced = Conv2D(filters = c, kernel_size = 1)\n",
        "        output = Add()([reduced(input), BN_out])\n",
        "    else:\n",
        "        output = Add()([input, BN_out])\n",
        "\n",
        "    return output\n",
        "    \n",
        "  else:\n",
        "    conv_1 = Conv2D(filters = inp_filters * t, kernel_size = 1)(input)  \n",
        "    BN = BatchNormalization()(conv_1)\n",
        "    Relu6 = tf.keras.activations.relu(BN, max_value=6)\n",
        "\n",
        "    Dwise_3 = DepthwiseConv2D(kernel_size=3, padding = 'same', strides = s)(Relu6)\n",
        "    BN = BatchNormalization()(Dwise_3)\n",
        "    Relu6 = tf.keras.activations.relu(BN, max_value=6)\n",
        "\n",
        "    conv_2 = Conv2D(filters = c, kernel_size = 1)(Relu6)  \n",
        "    BN_out = BatchNormalization()(conv_2)\n",
        "\n",
        "    return BN_out"
      ],
      "execution_count": 5,
      "outputs": []
    },
    {
      "cell_type": "code",
      "metadata": {
        "id": "-z17k3FWTij4"
      },
      "source": [
        "tf.keras.backend.clear_session\n",
        "tf.random.set_seed(16)\n",
        "input = Input(shape=(img_height, img_width, channel,))\n",
        "\n",
        "conv = Conv2D(filters = 32,activation='relu', kernel_size=3, strides=2)(input)\n",
        "BN = BatchNormalization()(conv)\n",
        "b = BottleNeck(BN, t = 1, c = 16, s = 1)\n",
        "\n",
        "b = BottleNeck(b, t = 6, c = 24, s = 2)\n",
        "b = BottleNeck(b, t = 6, c = 24, s = 2)\n",
        "\n",
        "b = BottleNeck(b, t = 6, c = 32, s = 2)\n",
        "b = BottleNeck(b, t = 6, c = 32, s = 2)\n",
        "b = BottleNeck(b, t = 6, c = 32, s = 2)\n",
        "\n",
        "b = BottleNeck(b, t = 6, c = 64, s = 2)\n",
        "b = BottleNeck(b, t = 6, c = 64, s = 2)\n",
        "b = BottleNeck(b, t = 6, c = 64, s = 2)\n",
        "b = BottleNeck(b, t = 6, c = 64, s = 2)\n",
        "\n",
        "b = BottleNeck(b, t = 6, c = 96, s = 1)\n",
        "b = BottleNeck(b, t = 6, c = 96, s = 1)\n",
        "b = BottleNeck(b, t = 6, c = 96, s = 1)\n",
        "\n",
        "b = BottleNeck(b, t = 6, c = 160, s = 2)\n",
        "b = BottleNeck(b, t = 6, c = 160, s = 2)\n",
        "b = BottleNeck(b, t = 6, c = 160, s = 2)\n",
        "\n",
        "b = BottleNeck(b, t = 6, c = 320, s = 1)\n",
        "\n",
        "conv = Conv2D(filters = 1280,activation='relu', kernel_size=1)(b)\n",
        "BN = BatchNormalization()(conv)\n",
        "\n",
        "avgpool = AveragePooling2D(pool_size=(7, 7), padding='same')(BN)\n",
        "\n",
        "conv = Conv2D(filters = 10, kernel_size=1)(avgpool)\n",
        "BN = BatchNormalization()(conv)\n",
        "\n",
        "output = Flatten()(BN)\n",
        "output = Dense(128)(output)\n",
        "output = Dense(num_classes, activation='softmax')(output)\n",
        "model = Model(inputs=[input], outputs=[output])"
      ],
      "execution_count": 6,
      "outputs": []
    },
    {
      "cell_type": "code",
      "metadata": {
        "id": "KzgvZ-cHTiQt"
      },
      "source": [
        "model.compile(loss=CategoricalCrossentropy(),\n",
        "              optimizer=Adam(learning_rate=0.001),\n",
        "              metrics=['accuracy'])"
      ],
      "execution_count": 7,
      "outputs": []
    },
    {
      "cell_type": "code",
      "metadata": {
        "colab": {
          "base_uri": "https://localhost:8080/"
        },
        "id": "HPrTyWQ82lp9",
        "outputId": "fcbde994-0c84-4104-a8f9-267c3437a1ce"
      },
      "source": [
        "history= model.fit(X_train,y_train,batch_size=128,epochs=100,verbose=1)"
      ],
      "execution_count": 8,
      "outputs": [
        {
          "output_type": "stream",
          "text": [
            "Epoch 1/100\n",
            "391/391 [==============================] - 50s 33ms/step - loss: 2.2787 - accuracy: 0.1326\n",
            "Epoch 2/100\n",
            "391/391 [==============================] - 12s 31ms/step - loss: 1.8851 - accuracy: 0.2597\n",
            "Epoch 3/100\n",
            "391/391 [==============================] - 12s 31ms/step - loss: 1.7004 - accuracy: 0.3409\n",
            "Epoch 4/100\n",
            "391/391 [==============================] - 12s 32ms/step - loss: 1.5803 - accuracy: 0.4010\n",
            "Epoch 5/100\n",
            "391/391 [==============================] - 12s 31ms/step - loss: 1.4808 - accuracy: 0.4529\n",
            "Epoch 6/100\n",
            "391/391 [==============================] - 12s 31ms/step - loss: 1.3961 - accuracy: 0.4895\n",
            "Epoch 7/100\n",
            "391/391 [==============================] - 12s 31ms/step - loss: 1.3545 - accuracy: 0.5129\n",
            "Epoch 8/100\n",
            "391/391 [==============================] - 12s 31ms/step - loss: 1.2743 - accuracy: 0.5483\n",
            "Epoch 9/100\n",
            "391/391 [==============================] - 12s 31ms/step - loss: 1.2133 - accuracy: 0.5734\n",
            "Epoch 10/100\n",
            "391/391 [==============================] - 12s 31ms/step - loss: 1.1954 - accuracy: 0.5832\n",
            "Epoch 11/100\n",
            "391/391 [==============================] - 12s 31ms/step - loss: 1.1407 - accuracy: 0.6041\n",
            "Epoch 12/100\n",
            "391/391 [==============================] - 12s 31ms/step - loss: 1.1101 - accuracy: 0.6185\n",
            "Epoch 13/100\n",
            "391/391 [==============================] - 12s 31ms/step - loss: 1.1125 - accuracy: 0.6139\n",
            "Epoch 14/100\n",
            "391/391 [==============================] - 12s 31ms/step - loss: 1.0354 - accuracy: 0.6378\n",
            "Epoch 15/100\n",
            "391/391 [==============================] - 12s 31ms/step - loss: 1.0096 - accuracy: 0.6523\n",
            "Epoch 16/100\n",
            "391/391 [==============================] - 12s 31ms/step - loss: 0.9730 - accuracy: 0.6638\n",
            "Epoch 17/100\n",
            "391/391 [==============================] - 12s 31ms/step - loss: 0.9498 - accuracy: 0.6711\n",
            "Epoch 18/100\n",
            "391/391 [==============================] - 12s 31ms/step - loss: 0.9068 - accuracy: 0.6891\n",
            "Epoch 19/100\n",
            "391/391 [==============================] - 12s 32ms/step - loss: 0.9058 - accuracy: 0.6885\n",
            "Epoch 20/100\n",
            "391/391 [==============================] - 12s 31ms/step - loss: 0.8509 - accuracy: 0.7067\n",
            "Epoch 21/100\n",
            "391/391 [==============================] - 12s 31ms/step - loss: 0.8216 - accuracy: 0.7198\n",
            "Epoch 22/100\n",
            "391/391 [==============================] - 12s 31ms/step - loss: 0.7976 - accuracy: 0.7262\n",
            "Epoch 23/100\n",
            "391/391 [==============================] - 12s 31ms/step - loss: 0.7972 - accuracy: 0.7269\n",
            "Epoch 24/100\n",
            "391/391 [==============================] - 12s 31ms/step - loss: 0.7612 - accuracy: 0.7402\n",
            "Epoch 25/100\n",
            "391/391 [==============================] - 12s 31ms/step - loss: 0.7399 - accuracy: 0.7479\n",
            "Epoch 26/100\n",
            "391/391 [==============================] - 12s 31ms/step - loss: 0.7081 - accuracy: 0.7595\n",
            "Epoch 27/100\n",
            "391/391 [==============================] - 12s 31ms/step - loss: 0.6895 - accuracy: 0.7656\n",
            "Epoch 28/100\n",
            "391/391 [==============================] - 12s 31ms/step - loss: 0.6779 - accuracy: 0.7661\n",
            "Epoch 29/100\n",
            "391/391 [==============================] - 12s 31ms/step - loss: 0.6714 - accuracy: 0.7713\n",
            "Epoch 30/100\n",
            "391/391 [==============================] - 12s 31ms/step - loss: 0.6462 - accuracy: 0.7817\n",
            "Epoch 31/100\n",
            "391/391 [==============================] - 12s 31ms/step - loss: 0.6303 - accuracy: 0.7849\n",
            "Epoch 32/100\n",
            "391/391 [==============================] - 12s 31ms/step - loss: 0.6148 - accuracy: 0.7891\n",
            "Epoch 33/100\n",
            "391/391 [==============================] - 12s 31ms/step - loss: 0.6129 - accuracy: 0.7914\n",
            "Epoch 34/100\n",
            "391/391 [==============================] - 12s 31ms/step - loss: 0.5993 - accuracy: 0.7964\n",
            "Epoch 35/100\n",
            "391/391 [==============================] - 12s 31ms/step - loss: 0.5808 - accuracy: 0.8024\n",
            "Epoch 36/100\n",
            "391/391 [==============================] - 12s 31ms/step - loss: 0.5636 - accuracy: 0.8081\n",
            "Epoch 37/100\n",
            "391/391 [==============================] - 12s 31ms/step - loss: 0.5596 - accuracy: 0.8089\n",
            "Epoch 38/100\n",
            "391/391 [==============================] - 12s 31ms/step - loss: 0.5461 - accuracy: 0.8129\n",
            "Epoch 39/100\n",
            "391/391 [==============================] - 12s 31ms/step - loss: 0.5370 - accuracy: 0.8156\n",
            "Epoch 40/100\n",
            "391/391 [==============================] - 12s 31ms/step - loss: 0.5200 - accuracy: 0.8212\n",
            "Epoch 41/100\n",
            "391/391 [==============================] - 12s 31ms/step - loss: 0.5208 - accuracy: 0.8230\n",
            "Epoch 42/100\n",
            "391/391 [==============================] - 12s 31ms/step - loss: 0.5102 - accuracy: 0.8262\n",
            "Epoch 43/100\n",
            "391/391 [==============================] - 12s 31ms/step - loss: 0.4991 - accuracy: 0.8312\n",
            "Epoch 44/100\n",
            "391/391 [==============================] - 12s 31ms/step - loss: 0.4913 - accuracy: 0.8329\n",
            "Epoch 45/100\n",
            "391/391 [==============================] - 12s 31ms/step - loss: 0.4824 - accuracy: 0.8367\n",
            "Epoch 46/100\n",
            "391/391 [==============================] - 12s 31ms/step - loss: 0.4749 - accuracy: 0.8381\n",
            "Epoch 47/100\n",
            "391/391 [==============================] - 12s 31ms/step - loss: 0.4628 - accuracy: 0.8416\n",
            "Epoch 48/100\n",
            "391/391 [==============================] - 12s 31ms/step - loss: 0.4600 - accuracy: 0.8444\n",
            "Epoch 49/100\n",
            "391/391 [==============================] - 12s 31ms/step - loss: 0.4483 - accuracy: 0.8464\n",
            "Epoch 50/100\n",
            "391/391 [==============================] - 12s 31ms/step - loss: 0.4486 - accuracy: 0.8469\n",
            "Epoch 51/100\n",
            "391/391 [==============================] - 12s 31ms/step - loss: 0.4314 - accuracy: 0.8531\n",
            "Epoch 52/100\n",
            "391/391 [==============================] - 12s 31ms/step - loss: 0.4208 - accuracy: 0.8560\n",
            "Epoch 53/100\n",
            "391/391 [==============================] - 12s 31ms/step - loss: 0.4194 - accuracy: 0.8575\n",
            "Epoch 54/100\n",
            "391/391 [==============================] - 12s 31ms/step - loss: 0.4235 - accuracy: 0.8557\n",
            "Epoch 55/100\n",
            "391/391 [==============================] - 12s 31ms/step - loss: 0.4076 - accuracy: 0.8620\n",
            "Epoch 56/100\n",
            "391/391 [==============================] - 12s 31ms/step - loss: 0.4081 - accuracy: 0.8596\n",
            "Epoch 57/100\n",
            "391/391 [==============================] - 12s 31ms/step - loss: 0.4014 - accuracy: 0.8632\n",
            "Epoch 58/100\n",
            "391/391 [==============================] - 12s 31ms/step - loss: 0.3919 - accuracy: 0.8652\n",
            "Epoch 59/100\n",
            "391/391 [==============================] - 12s 31ms/step - loss: 0.3908 - accuracy: 0.8683\n",
            "Epoch 60/100\n",
            "391/391 [==============================] - 12s 31ms/step - loss: 0.3917 - accuracy: 0.8670\n",
            "Epoch 61/100\n",
            "391/391 [==============================] - 12s 31ms/step - loss: 0.3743 - accuracy: 0.8729\n",
            "Epoch 62/100\n",
            "391/391 [==============================] - 12s 31ms/step - loss: 0.3714 - accuracy: 0.8714\n",
            "Epoch 63/100\n",
            "391/391 [==============================] - 12s 31ms/step - loss: 0.3728 - accuracy: 0.8732\n",
            "Epoch 64/100\n",
            "391/391 [==============================] - 12s 31ms/step - loss: 0.3680 - accuracy: 0.8747\n",
            "Epoch 65/100\n",
            "391/391 [==============================] - 12s 31ms/step - loss: 0.3534 - accuracy: 0.8783\n",
            "Epoch 66/100\n",
            "391/391 [==============================] - 12s 31ms/step - loss: 0.3467 - accuracy: 0.8819\n",
            "Epoch 67/100\n",
            "391/391 [==============================] - 12s 31ms/step - loss: 0.3505 - accuracy: 0.8807\n",
            "Epoch 68/100\n",
            "391/391 [==============================] - 12s 31ms/step - loss: 0.3478 - accuracy: 0.8822\n",
            "Epoch 69/100\n",
            "391/391 [==============================] - 12s 31ms/step - loss: 0.3370 - accuracy: 0.8861\n",
            "Epoch 70/100\n",
            "391/391 [==============================] - 12s 31ms/step - loss: 0.3369 - accuracy: 0.8871\n",
            "Epoch 71/100\n",
            "391/391 [==============================] - 12s 31ms/step - loss: 0.3415 - accuracy: 0.8843\n",
            "Epoch 72/100\n",
            "391/391 [==============================] - 12s 31ms/step - loss: 0.3234 - accuracy: 0.8893\n",
            "Epoch 73/100\n",
            "391/391 [==============================] - 12s 31ms/step - loss: 0.3200 - accuracy: 0.8908\n",
            "Epoch 74/100\n",
            "391/391 [==============================] - 12s 31ms/step - loss: 0.3241 - accuracy: 0.8896\n",
            "Epoch 75/100\n",
            "391/391 [==============================] - 12s 31ms/step - loss: 0.3164 - accuracy: 0.8918\n",
            "Epoch 76/100\n",
            "391/391 [==============================] - 12s 31ms/step - loss: 0.3290 - accuracy: 0.8888\n",
            "Epoch 77/100\n",
            "391/391 [==============================] - 12s 31ms/step - loss: 0.3172 - accuracy: 0.8913\n",
            "Epoch 78/100\n",
            "391/391 [==============================] - 12s 31ms/step - loss: 0.3074 - accuracy: 0.8971\n",
            "Epoch 79/100\n",
            "391/391 [==============================] - 12s 31ms/step - loss: 0.3142 - accuracy: 0.8938\n",
            "Epoch 80/100\n",
            "391/391 [==============================] - 12s 31ms/step - loss: 0.2976 - accuracy: 0.8988\n",
            "Epoch 81/100\n",
            "391/391 [==============================] - 12s 31ms/step - loss: 0.2887 - accuracy: 0.9023\n",
            "Epoch 82/100\n",
            "391/391 [==============================] - 12s 31ms/step - loss: 0.2963 - accuracy: 0.8990\n",
            "Epoch 83/100\n",
            "391/391 [==============================] - 12s 31ms/step - loss: 0.2922 - accuracy: 0.8995\n",
            "Epoch 84/100\n",
            "391/391 [==============================] - 12s 31ms/step - loss: 0.2794 - accuracy: 0.9043\n",
            "Epoch 85/100\n",
            "391/391 [==============================] - 12s 31ms/step - loss: 0.2913 - accuracy: 0.9008\n",
            "Epoch 86/100\n",
            "391/391 [==============================] - 12s 31ms/step - loss: 0.2816 - accuracy: 0.9029\n",
            "Epoch 87/100\n",
            "391/391 [==============================] - 12s 31ms/step - loss: 0.2827 - accuracy: 0.9039\n",
            "Epoch 88/100\n",
            "391/391 [==============================] - 12s 31ms/step - loss: 0.2763 - accuracy: 0.9090\n",
            "Epoch 89/100\n",
            "391/391 [==============================] - 12s 31ms/step - loss: 0.2749 - accuracy: 0.9075\n",
            "Epoch 90/100\n",
            "391/391 [==============================] - 12s 31ms/step - loss: 0.2695 - accuracy: 0.9085\n",
            "Epoch 91/100\n",
            "391/391 [==============================] - 12s 31ms/step - loss: 0.2749 - accuracy: 0.9073\n",
            "Epoch 92/100\n",
            "391/391 [==============================] - 12s 31ms/step - loss: 0.2694 - accuracy: 0.9108\n",
            "Epoch 93/100\n",
            "391/391 [==============================] - 12s 31ms/step - loss: 0.2716 - accuracy: 0.9077\n",
            "Epoch 94/100\n",
            "391/391 [==============================] - 12s 31ms/step - loss: 0.2570 - accuracy: 0.9137\n",
            "Epoch 95/100\n",
            "391/391 [==============================] - 12s 31ms/step - loss: 0.2626 - accuracy: 0.9122\n",
            "Epoch 96/100\n",
            "391/391 [==============================] - 12s 31ms/step - loss: 0.2544 - accuracy: 0.9131\n",
            "Epoch 97/100\n",
            "391/391 [==============================] - 12s 31ms/step - loss: 0.2575 - accuracy: 0.9149\n",
            "Epoch 98/100\n",
            "391/391 [==============================] - 12s 31ms/step - loss: 0.2598 - accuracy: 0.9134\n",
            "Epoch 99/100\n",
            "391/391 [==============================] - 12s 31ms/step - loss: 0.2546 - accuracy: 0.9135\n",
            "Epoch 100/100\n",
            "391/391 [==============================] - 12s 31ms/step - loss: 0.2490 - accuracy: 0.9165\n"
          ],
          "name": "stdout"
        }
      ]
    },
    {
      "cell_type": "code",
      "metadata": {
        "colab": {
          "base_uri": "https://localhost:8080/",
          "height": 791
        },
        "id": "CGJYBsj7Uk6o",
        "outputId": "8158de49-7692-42ed-dfc6-ab32b2e44c41"
      },
      "source": [
        "plt.figure(figsize=(15,6))\n",
        "plt.plot(history.history['accuracy'])\n",
        "plt.title('model accuracy')\n",
        "plt.ylabel('accuracy')\n",
        "plt.xlabel('epoch')\n",
        "plt.legend(['train', 'test'])\n",
        "plt.show()\n",
        "\n",
        "plt.figure(figsize=(15,6))\n",
        "plt.plot(history.history['loss'])\n",
        "plt.title('model loss')\n",
        "plt.ylabel('loss')\n",
        "plt.xlabel('epoch')\n",
        "plt.legend(['train', 'test'])\n",
        "plt.show()"
      ],
      "execution_count": 15,
      "outputs": [
        {
          "output_type": "display_data",
          "data": {
            "image/png": "[encoded data removed]",
            "text/plain": [
              "<Figure size 1080x432 with 1 Axes>"
            ]
          },
          "metadata": {
            "tags": [],
            "needs_background": "light"
          }
        },
        {
          "output_type": "display_data",
          "data": {
            "image/png": "[encoded data removed]",
            "text/plain": [
              "<Figure size 1080x432 with 1 Axes>"
            ]
          },
          "metadata": {
            "tags": [],
            "needs_background": "light"
          }
        }
      ]
    },
    {
      "cell_type": "code",
      "metadata": {
        "colab": {
          "base_uri": "https://localhost:8080/"
        },
        "id": "MK6ioZQJetVl",
        "outputId": "f0b209d1-3dcb-43be-9b3d-aa12c8ebce0b"
      },
      "source": [
        "from google.colab import drive\n",
        "drive.mount('/content/drive')\n",
        "model.save_weights(\"/content/drive/My Drive/Colab Notebooks/MobileNet_weights.h5\")\n",
        "print(\"Saved model to disk as MobileNet_weights.h5\")\n",
        "saved_path = '/content/drive/My Drive/Colab Notebooks/MobileNet_weights.h5'\n",
        "k = model.load_weights(saved_path)"
      ],
      "execution_count": 10,
      "outputs": [
        {
          "output_type": "stream",
          "text": [
            "Mounted at /content/drive\n",
            "Saved model to disk as MobileNet_weights.h5\n"
          ],
          "name": "stdout"
        }
      ]
    },
    {
      "cell_type": "code",
      "metadata": {
        "colab": {
          "base_uri": "https://localhost:8080/"
        },
        "id": "TTLJWtSqfmMP",
        "outputId": "b9cf6113-fd75-4504-fc1c-446bfae3f19a"
      },
      "source": [
        "model.evaluate(X_train,y_train,sample_weight=k)"
      ],
      "execution_count": 11,
      "outputs": [
        {
          "output_type": "stream",
          "text": [
            "1563/1563 [==============================] - 16s 9ms/step - loss: 0.3251 - accuracy: 0.8929\n"
          ],
          "name": "stdout"
        },
        {
          "output_type": "execute_result",
          "data": {
            "text/plain": [
              "[0.3250950872898102, 0.8928800225257874]"
            ]
          },
          "metadata": {
            "tags": []
          },
          "execution_count": 11
        }
      ]
    },
    {
      "cell_type": "code",
      "metadata": {
        "id": "vPsezhNZ6hSv",
        "colab": {
          "base_uri": "https://localhost:8080/"
        },
        "outputId": "264bd5ef-d9aa-44f1-f21f-db2c8e8c5b70"
      },
      "source": [
        "model.evaluate(X_test,y_test,sample_weight=k)"
      ],
      "execution_count": 12,
      "outputs": [
        {
          "output_type": "stream",
          "text": [
            "313/313 [==============================] - 3s 9ms/step - loss: 1.1840 - accuracy: 0.7016\n"
          ],
          "name": "stdout"
        },
        {
          "output_type": "execute_result",
          "data": {
            "text/plain": [
              "[1.183961033821106, 0.7016000151634216]"
            ]
          },
          "metadata": {
            "tags": []
          },
          "execution_count": 12
        }
      ]
    },
    {
      "cell_type": "code",
      "metadata": {
        "id": "n5Ek1gbgTiVp",
        "colab": {
          "base_uri": "https://localhost:8080/"
        },
        "outputId": "41fb78aa-8f8e-4fc2-9eff-3eb4df22b4e9"
      },
      "source": [
        "model.summary()"
      ],
      "execution_count": 13,
      "outputs": [
        {
          "output_type": "stream",
          "text": [
            "Model: \"model\"\n",
            "__________________________________________________________________________________________________\n",
            "Layer (type)                    Output Shape         Param #     Connected to                     \n",
            "==================================================================================================\n",
            "input_1 (InputLayer)            [(None, 32, 32, 3)]  0                                            \n",
            "__________________________________________________________________________________________________\n",
            "conv2d (Conv2D)                 (None, 15, 15, 32)   896         input_1[0][0]                    \n",
            "__________________________________________________________________________________________________\n",
            "batch_normalization (BatchNorma (None, 15, 15, 32)   128         conv2d[0][0]                     \n",
            "__________________________________________________________________________________________________\n",
            "conv2d_1 (Conv2D)               (None, 15, 15, 32)   1056        batch_normalization[0][0]        \n",
            "__________________________________________________________________________________________________\n",
            "batch_normalization_1 (BatchNor (None, 15, 15, 32)   128         conv2d_1[0][0]                   \n",
            "__________________________________________________________________________________________________\n",
            "tf.nn.relu6 (TFOpLambda)        (None, 15, 15, 32)   0           batch_normalization_1[0][0]      \n",
            "__________________________________________________________________________________________________\n",
            "depthwise_conv2d (DepthwiseConv (None, 15, 15, 32)   320         tf.nn.relu6[0][0]                \n",
            "__________________________________________________________________________________________________\n",
            "batch_normalization_2 (BatchNor (None, 15, 15, 32)   128         depthwise_conv2d[0][0]           \n",
            "__________________________________________________________________________________________________\n",
            "tf.nn.relu6_1 (TFOpLambda)      (None, 15, 15, 32)   0           batch_normalization_2[0][0]      \n",
            "__________________________________________________________________________________________________\n",
            "conv2d_2 (Conv2D)               (None, 15, 15, 16)   528         tf.nn.relu6_1[0][0]              \n",
            "__________________________________________________________________________________________________\n",
            "conv2d_3 (Conv2D)               (None, 15, 15, 16)   528         batch_normalization[0][0]        \n",
            "__________________________________________________________________________________________________\n",
            "batch_normalization_3 (BatchNor (None, 15, 15, 16)   64          conv2d_2[0][0]                   \n",
            "__________________________________________________________________________________________________\n",
            "add (Add)                       (None, 15, 15, 16)   0           conv2d_3[0][0]                   \n",
            "                                                                 batch_normalization_3[0][0]      \n",
            "__________________________________________________________________________________________________\n",
            "conv2d_4 (Conv2D)               (None, 15, 15, 96)   1632        add[0][0]                        \n",
            "__________________________________________________________________________________________________\n",
            "batch_normalization_4 (BatchNor (None, 15, 15, 96)   384         conv2d_4[0][0]                   \n",
            "__________________________________________________________________________________________________\n",
            "tf.nn.relu6_2 (TFOpLambda)      (None, 15, 15, 96)   0           batch_normalization_4[0][0]      \n",
            "__________________________________________________________________________________________________\n",
            "depthwise_conv2d_1 (DepthwiseCo (None, 8, 8, 96)     960         tf.nn.relu6_2[0][0]              \n",
            "__________________________________________________________________________________________________\n",
            "batch_normalization_5 (BatchNor (None, 8, 8, 96)     384         depthwise_conv2d_1[0][0]         \n",
            "__________________________________________________________________________________________________\n",
            "tf.nn.relu6_3 (TFOpLambda)      (None, 8, 8, 96)     0           batch_normalization_5[0][0]      \n",
            "__________________________________________________________________________________________________\n",
            "conv2d_5 (Conv2D)               (None, 8, 8, 24)     2328        tf.nn.relu6_3[0][0]              \n",
            "__________________________________________________________________________________________________\n",
            "batch_normalization_6 (BatchNor (None, 8, 8, 24)     96          conv2d_5[0][0]                   \n",
            "__________________________________________________________________________________________________\n",
            "conv2d_6 (Conv2D)               (None, 8, 8, 144)    3600        batch_normalization_6[0][0]      \n",
            "__________________________________________________________________________________________________\n",
            "batch_normalization_7 (BatchNor (None, 8, 8, 144)    576         conv2d_6[0][0]                   \n",
            "__________________________________________________________________________________________________\n",
            "tf.nn.relu6_4 (TFOpLambda)      (None, 8, 8, 144)    0           batch_normalization_7[0][0]      \n",
            "__________________________________________________________________________________________________\n",
            "depthwise_conv2d_2 (DepthwiseCo (None, 4, 4, 144)    1440        tf.nn.relu6_4[0][0]              \n",
            "__________________________________________________________________________________________________\n",
            "batch_normalization_8 (BatchNor (None, 4, 4, 144)    576         depthwise_conv2d_2[0][0]         \n",
            "__________________________________________________________________________________________________\n",
            "tf.nn.relu6_5 (TFOpLambda)      (None, 4, 4, 144)    0           batch_normalization_8[0][0]      \n",
            "__________________________________________________________________________________________________\n",
            "conv2d_7 (Conv2D)               (None, 4, 4, 24)     3480        tf.nn.relu6_5[0][0]              \n",
            "__________________________________________________________________________________________________\n",
            "batch_normalization_9 (BatchNor (None, 4, 4, 24)     96          conv2d_7[0][0]                   \n",
            "__________________________________________________________________________________________________\n",
            "conv2d_8 (Conv2D)               (None, 4, 4, 144)    3600        batch_normalization_9[0][0]      \n",
            "__________________________________________________________________________________________________\n",
            "batch_normalization_10 (BatchNo (None, 4, 4, 144)    576         conv2d_8[0][0]                   \n",
            "__________________________________________________________________________________________________\n",
            "tf.nn.relu6_6 (TFOpLambda)      (None, 4, 4, 144)    0           batch_normalization_10[0][0]     \n",
            "__________________________________________________________________________________________________\n",
            "depthwise_conv2d_3 (DepthwiseCo (None, 2, 2, 144)    1440        tf.nn.relu6_6[0][0]              \n",
            "__________________________________________________________________________________________________\n",
            "batch_normalization_11 (BatchNo (None, 2, 2, 144)    576         depthwise_conv2d_3[0][0]         \n",
            "__________________________________________________________________________________________________\n",
            "tf.nn.relu6_7 (TFOpLambda)      (None, 2, 2, 144)    0           batch_normalization_11[0][0]     \n",
            "__________________________________________________________________________________________________\n",
            "conv2d_9 (Conv2D)               (None, 2, 2, 32)     4640        tf.nn.relu6_7[0][0]              \n",
            "__________________________________________________________________________________________________\n",
            "batch_normalization_12 (BatchNo (None, 2, 2, 32)     128         conv2d_9[0][0]                   \n",
            "__________________________________________________________________________________________________\n",
            "conv2d_10 (Conv2D)              (None, 2, 2, 192)    6336        batch_normalization_12[0][0]     \n",
            "__________________________________________________________________________________________________\n",
            "batch_normalization_13 (BatchNo (None, 2, 2, 192)    768         conv2d_10[0][0]                  \n",
            "__________________________________________________________________________________________________\n",
            "tf.nn.relu6_8 (TFOpLambda)      (None, 2, 2, 192)    0           batch_normalization_13[0][0]     \n",
            "__________________________________________________________________________________________________\n",
            "depthwise_conv2d_4 (DepthwiseCo (None, 1, 1, 192)    1920        tf.nn.relu6_8[0][0]              \n",
            "__________________________________________________________________________________________________\n",
            "batch_normalization_14 (BatchNo (None, 1, 1, 192)    768         depthwise_conv2d_4[0][0]         \n",
            "__________________________________________________________________________________________________\n",
            "tf.nn.relu6_9 (TFOpLambda)      (None, 1, 1, 192)    0           batch_normalization_14[0][0]     \n",
            "__________________________________________________________________________________________________\n",
            "conv2d_11 (Conv2D)              (None, 1, 1, 32)     6176        tf.nn.relu6_9[0][0]              \n",
            "__________________________________________________________________________________________________\n",
            "batch_normalization_15 (BatchNo (None, 1, 1, 32)     128         conv2d_11[0][0]                  \n",
            "__________________________________________________________________________________________________\n",
            "conv2d_12 (Conv2D)              (None, 1, 1, 192)    6336        batch_normalization_15[0][0]     \n",
            "__________________________________________________________________________________________________\n",
            "batch_normalization_16 (BatchNo (None, 1, 1, 192)    768         conv2d_12[0][0]                  \n",
            "__________________________________________________________________________________________________\n",
            "tf.nn.relu6_10 (TFOpLambda)     (None, 1, 1, 192)    0           batch_normalization_16[0][0]     \n",
            "__________________________________________________________________________________________________\n",
            "depthwise_conv2d_5 (DepthwiseCo (None, 1, 1, 192)    1920        tf.nn.relu6_10[0][0]             \n",
            "__________________________________________________________________________________________________\n",
            "batch_normalization_17 (BatchNo (None, 1, 1, 192)    768         depthwise_conv2d_5[0][0]         \n",
            "__________________________________________________________________________________________________\n",
            "tf.nn.relu6_11 (TFOpLambda)     (None, 1, 1, 192)    0           batch_normalization_17[0][0]     \n",
            "__________________________________________________________________________________________________\n",
            "conv2d_13 (Conv2D)              (None, 1, 1, 32)     6176        tf.nn.relu6_11[0][0]             \n",
            "__________________________________________________________________________________________________\n",
            "batch_normalization_18 (BatchNo (None, 1, 1, 32)     128         conv2d_13[0][0]                  \n",
            "__________________________________________________________________________________________________\n",
            "conv2d_14 (Conv2D)              (None, 1, 1, 192)    6336        batch_normalization_18[0][0]     \n",
            "__________________________________________________________________________________________________\n",
            "batch_normalization_19 (BatchNo (None, 1, 1, 192)    768         conv2d_14[0][0]                  \n",
            "__________________________________________________________________________________________________\n",
            "tf.nn.relu6_12 (TFOpLambda)     (None, 1, 1, 192)    0           batch_normalization_19[0][0]     \n",
            "__________________________________________________________________________________________________\n",
            "depthwise_conv2d_6 (DepthwiseCo (None, 1, 1, 192)    1920        tf.nn.relu6_12[0][0]             \n",
            "__________________________________________________________________________________________________\n",
            "batch_normalization_20 (BatchNo (None, 1, 1, 192)    768         depthwise_conv2d_6[0][0]         \n",
            "__________________________________________________________________________________________________\n",
            "tf.nn.relu6_13 (TFOpLambda)     (None, 1, 1, 192)    0           batch_normalization_20[0][0]     \n",
            "__________________________________________________________________________________________________\n",
            "conv2d_15 (Conv2D)              (None, 1, 1, 64)     12352       tf.nn.relu6_13[0][0]             \n",
            "__________________________________________________________________________________________________\n",
            "batch_normalization_21 (BatchNo (None, 1, 1, 64)     256         conv2d_15[0][0]                  \n",
            "__________________________________________________________________________________________________\n",
            "conv2d_16 (Conv2D)              (None, 1, 1, 384)    24960       batch_normalization_21[0][0]     \n",
            "__________________________________________________________________________________________________\n",
            "batch_normalization_22 (BatchNo (None, 1, 1, 384)    1536        conv2d_16[0][0]                  \n",
            "__________________________________________________________________________________________________\n",
            "tf.nn.relu6_14 (TFOpLambda)     (None, 1, 1, 384)    0           batch_normalization_22[0][0]     \n",
            "__________________________________________________________________________________________________\n",
            "depthwise_conv2d_7 (DepthwiseCo (None, 1, 1, 384)    3840        tf.nn.relu6_14[0][0]             \n",
            "__________________________________________________________________________________________________\n",
            "batch_normalization_23 (BatchNo (None, 1, 1, 384)    1536        depthwise_conv2d_7[0][0]         \n",
            "__________________________________________________________________________________________________\n",
            "tf.nn.relu6_15 (TFOpLambda)     (None, 1, 1, 384)    0           batch_normalization_23[0][0]     \n",
            "__________________________________________________________________________________________________\n",
            "conv2d_17 (Conv2D)              (None, 1, 1, 64)     24640       tf.nn.relu6_15[0][0]             \n",
            "__________________________________________________________________________________________________\n",
            "batch_normalization_24 (BatchNo (None, 1, 1, 64)     256         conv2d_17[0][0]                  \n",
            "__________________________________________________________________________________________________\n",
            "conv2d_18 (Conv2D)              (None, 1, 1, 384)    24960       batch_normalization_24[0][0]     \n",
            "__________________________________________________________________________________________________\n",
            "batch_normalization_25 (BatchNo (None, 1, 1, 384)    1536        conv2d_18[0][0]                  \n",
            "__________________________________________________________________________________________________\n",
            "tf.nn.relu6_16 (TFOpLambda)     (None, 1, 1, 384)    0           batch_normalization_25[0][0]     \n",
            "__________________________________________________________________________________________________\n",
            "depthwise_conv2d_8 (DepthwiseCo (None, 1, 1, 384)    3840        tf.nn.relu6_16[0][0]             \n",
            "__________________________________________________________________________________________________\n",
            "batch_normalization_26 (BatchNo (None, 1, 1, 384)    1536        depthwise_conv2d_8[0][0]         \n",
            "__________________________________________________________________________________________________\n",
            "tf.nn.relu6_17 (TFOpLambda)     (None, 1, 1, 384)    0           batch_normalization_26[0][0]     \n",
            "__________________________________________________________________________________________________\n",
            "conv2d_19 (Conv2D)              (None, 1, 1, 64)     24640       tf.nn.relu6_17[0][0]             \n",
            "__________________________________________________________________________________________________\n",
            "batch_normalization_27 (BatchNo (None, 1, 1, 64)     256         conv2d_19[0][0]                  \n",
            "__________________________________________________________________________________________________\n",
            "conv2d_20 (Conv2D)              (None, 1, 1, 384)    24960       batch_normalization_27[0][0]     \n",
            "__________________________________________________________________________________________________\n",
            "batch_normalization_28 (BatchNo (None, 1, 1, 384)    1536        conv2d_20[0][0]                  \n",
            "__________________________________________________________________________________________________\n",
            "tf.nn.relu6_18 (TFOpLambda)     (None, 1, 1, 384)    0           batch_normalization_28[0][0]     \n",
            "__________________________________________________________________________________________________\n",
            "depthwise_conv2d_9 (DepthwiseCo (None, 1, 1, 384)    3840        tf.nn.relu6_18[0][0]             \n",
            "__________________________________________________________________________________________________\n",
            "batch_normalization_29 (BatchNo (None, 1, 1, 384)    1536        depthwise_conv2d_9[0][0]         \n",
            "__________________________________________________________________________________________________\n",
            "tf.nn.relu6_19 (TFOpLambda)     (None, 1, 1, 384)    0           batch_normalization_29[0][0]     \n",
            "__________________________________________________________________________________________________\n",
            "conv2d_21 (Conv2D)              (None, 1, 1, 64)     24640       tf.nn.relu6_19[0][0]             \n",
            "__________________________________________________________________________________________________\n",
            "batch_normalization_30 (BatchNo (None, 1, 1, 64)     256         conv2d_21[0][0]                  \n",
            "__________________________________________________________________________________________________\n",
            "conv2d_22 (Conv2D)              (None, 1, 1, 384)    24960       batch_normalization_30[0][0]     \n",
            "__________________________________________________________________________________________________\n",
            "batch_normalization_31 (BatchNo (None, 1, 1, 384)    1536        conv2d_22[0][0]                  \n",
            "__________________________________________________________________________________________________\n",
            "tf.nn.relu6_20 (TFOpLambda)     (None, 1, 1, 384)    0           batch_normalization_31[0][0]     \n",
            "__________________________________________________________________________________________________\n",
            "depthwise_conv2d_10 (DepthwiseC (None, 1, 1, 384)    3840        tf.nn.relu6_20[0][0]             \n",
            "__________________________________________________________________________________________________\n",
            "batch_normalization_32 (BatchNo (None, 1, 1, 384)    1536        depthwise_conv2d_10[0][0]        \n",
            "__________________________________________________________________________________________________\n",
            "tf.nn.relu6_21 (TFOpLambda)     (None, 1, 1, 384)    0           batch_normalization_32[0][0]     \n",
            "__________________________________________________________________________________________________\n",
            "conv2d_23 (Conv2D)              (None, 1, 1, 96)     36960       tf.nn.relu6_21[0][0]             \n",
            "__________________________________________________________________________________________________\n",
            "conv2d_24 (Conv2D)              (None, 1, 1, 96)     6240        batch_normalization_30[0][0]     \n",
            "__________________________________________________________________________________________________\n",
            "batch_normalization_33 (BatchNo (None, 1, 1, 96)     384         conv2d_23[0][0]                  \n",
            "__________________________________________________________________________________________________\n",
            "add_1 (Add)                     (None, 1, 1, 96)     0           conv2d_24[0][0]                  \n",
            "                                                                 batch_normalization_33[0][0]     \n",
            "__________________________________________________________________________________________________\n",
            "conv2d_25 (Conv2D)              (None, 1, 1, 576)    55872       add_1[0][0]                      \n",
            "__________________________________________________________________________________________________\n",
            "batch_normalization_34 (BatchNo (None, 1, 1, 576)    2304        conv2d_25[0][0]                  \n",
            "__________________________________________________________________________________________________\n",
            "tf.nn.relu6_22 (TFOpLambda)     (None, 1, 1, 576)    0           batch_normalization_34[0][0]     \n",
            "__________________________________________________________________________________________________\n",
            "depthwise_conv2d_11 (DepthwiseC (None, 1, 1, 576)    5760        tf.nn.relu6_22[0][0]             \n",
            "__________________________________________________________________________________________________\n",
            "batch_normalization_35 (BatchNo (None, 1, 1, 576)    2304        depthwise_conv2d_11[0][0]        \n",
            "__________________________________________________________________________________________________\n",
            "tf.nn.relu6_23 (TFOpLambda)     (None, 1, 1, 576)    0           batch_normalization_35[0][0]     \n",
            "__________________________________________________________________________________________________\n",
            "conv2d_26 (Conv2D)              (None, 1, 1, 96)     55392       tf.nn.relu6_23[0][0]             \n",
            "__________________________________________________________________________________________________\n",
            "batch_normalization_36 (BatchNo (None, 1, 1, 96)     384         conv2d_26[0][0]                  \n",
            "__________________________________________________________________________________________________\n",
            "add_2 (Add)                     (None, 1, 1, 96)     0           add_1[0][0]                      \n",
            "                                                                 batch_normalization_36[0][0]     \n",
            "__________________________________________________________________________________________________\n",
            "conv2d_27 (Conv2D)              (None, 1, 1, 576)    55872       add_2[0][0]                      \n",
            "__________________________________________________________________________________________________\n",
            "batch_normalization_37 (BatchNo (None, 1, 1, 576)    2304        conv2d_27[0][0]                  \n",
            "__________________________________________________________________________________________________\n",
            "tf.nn.relu6_24 (TFOpLambda)     (None, 1, 1, 576)    0           batch_normalization_37[0][0]     \n",
            "__________________________________________________________________________________________________\n",
            "depthwise_conv2d_12 (DepthwiseC (None, 1, 1, 576)    5760        tf.nn.relu6_24[0][0]             \n",
            "__________________________________________________________________________________________________\n",
            "batch_normalization_38 (BatchNo (None, 1, 1, 576)    2304        depthwise_conv2d_12[0][0]        \n",
            "__________________________________________________________________________________________________\n",
            "tf.nn.relu6_25 (TFOpLambda)     (None, 1, 1, 576)    0           batch_normalization_38[0][0]     \n",
            "__________________________________________________________________________________________________\n",
            "conv2d_28 (Conv2D)              (None, 1, 1, 96)     55392       tf.nn.relu6_25[0][0]             \n",
            "__________________________________________________________________________________________________\n",
            "batch_normalization_39 (BatchNo (None, 1, 1, 96)     384         conv2d_28[0][0]                  \n",
            "__________________________________________________________________________________________________\n",
            "add_3 (Add)                     (None, 1, 1, 96)     0           add_2[0][0]                      \n",
            "                                                                 batch_normalization_39[0][0]     \n",
            "__________________________________________________________________________________________________\n",
            "conv2d_29 (Conv2D)              (None, 1, 1, 576)    55872       add_3[0][0]                      \n",
            "__________________________________________________________________________________________________\n",
            "batch_normalization_40 (BatchNo (None, 1, 1, 576)    2304        conv2d_29[0][0]                  \n",
            "__________________________________________________________________________________________________\n",
            "tf.nn.relu6_26 (TFOpLambda)     (None, 1, 1, 576)    0           batch_normalization_40[0][0]     \n",
            "__________________________________________________________________________________________________\n",
            "depthwise_conv2d_13 (DepthwiseC (None, 1, 1, 576)    5760        tf.nn.relu6_26[0][0]             \n",
            "__________________________________________________________________________________________________\n",
            "batch_normalization_41 (BatchNo (None, 1, 1, 576)    2304        depthwise_conv2d_13[0][0]        \n",
            "__________________________________________________________________________________________________\n",
            "tf.nn.relu6_27 (TFOpLambda)     (None, 1, 1, 576)    0           batch_normalization_41[0][0]     \n",
            "__________________________________________________________________________________________________\n",
            "conv2d_30 (Conv2D)              (None, 1, 1, 160)    92320       tf.nn.relu6_27[0][0]             \n",
            "__________________________________________________________________________________________________\n",
            "batch_normalization_42 (BatchNo (None, 1, 1, 160)    640         conv2d_30[0][0]                  \n",
            "__________________________________________________________________________________________________\n",
            "conv2d_31 (Conv2D)              (None, 1, 1, 960)    154560      batch_normalization_42[0][0]     \n",
            "__________________________________________________________________________________________________\n",
            "batch_normalization_43 (BatchNo (None, 1, 1, 960)    3840        conv2d_31[0][0]                  \n",
            "__________________________________________________________________________________________________\n",
            "tf.nn.relu6_28 (TFOpLambda)     (None, 1, 1, 960)    0           batch_normalization_43[0][0]     \n",
            "__________________________________________________________________________________________________\n",
            "depthwise_conv2d_14 (DepthwiseC (None, 1, 1, 960)    9600        tf.nn.relu6_28[0][0]             \n",
            "__________________________________________________________________________________________________\n",
            "batch_normalization_44 (BatchNo (None, 1, 1, 960)    3840        depthwise_conv2d_14[0][0]        \n",
            "__________________________________________________________________________________________________\n",
            "tf.nn.relu6_29 (TFOpLambda)     (None, 1, 1, 960)    0           batch_normalization_44[0][0]     \n",
            "__________________________________________________________________________________________________\n",
            "conv2d_32 (Conv2D)              (None, 1, 1, 160)    153760      tf.nn.relu6_29[0][0]             \n",
            "__________________________________________________________________________________________________\n",
            "batch_normalization_45 (BatchNo (None, 1, 1, 160)    640         conv2d_32[0][0]                  \n",
            "__________________________________________________________________________________________________\n",
            "conv2d_33 (Conv2D)              (None, 1, 1, 960)    154560      batch_normalization_45[0][0]     \n",
            "__________________________________________________________________________________________________\n",
            "batch_normalization_46 (BatchNo (None, 1, 1, 960)    3840        conv2d_33[0][0]                  \n",
            "__________________________________________________________________________________________________\n",
            "tf.nn.relu6_30 (TFOpLambda)     (None, 1, 1, 960)    0           batch_normalization_46[0][0]     \n",
            "__________________________________________________________________________________________________\n",
            "depthwise_conv2d_15 (DepthwiseC (None, 1, 1, 960)    9600        tf.nn.relu6_30[0][0]             \n",
            "__________________________________________________________________________________________________\n",
            "batch_normalization_47 (BatchNo (None, 1, 1, 960)    3840        depthwise_conv2d_15[0][0]        \n",
            "__________________________________________________________________________________________________\n",
            "tf.nn.relu6_31 (TFOpLambda)     (None, 1, 1, 960)    0           batch_normalization_47[0][0]     \n",
            "__________________________________________________________________________________________________\n",
            "conv2d_34 (Conv2D)              (None, 1, 1, 160)    153760      tf.nn.relu6_31[0][0]             \n",
            "__________________________________________________________________________________________________\n",
            "batch_normalization_48 (BatchNo (None, 1, 1, 160)    640         conv2d_34[0][0]                  \n",
            "__________________________________________________________________________________________________\n",
            "conv2d_35 (Conv2D)              (None, 1, 1, 960)    154560      batch_normalization_48[0][0]     \n",
            "__________________________________________________________________________________________________\n",
            "batch_normalization_49 (BatchNo (None, 1, 1, 960)    3840        conv2d_35[0][0]                  \n",
            "__________________________________________________________________________________________________\n",
            "tf.nn.relu6_32 (TFOpLambda)     (None, 1, 1, 960)    0           batch_normalization_49[0][0]     \n",
            "__________________________________________________________________________________________________\n",
            "depthwise_conv2d_16 (DepthwiseC (None, 1, 1, 960)    9600        tf.nn.relu6_32[0][0]             \n",
            "__________________________________________________________________________________________________\n",
            "batch_normalization_50 (BatchNo (None, 1, 1, 960)    3840        depthwise_conv2d_16[0][0]        \n",
            "__________________________________________________________________________________________________\n",
            "tf.nn.relu6_33 (TFOpLambda)     (None, 1, 1, 960)    0           batch_normalization_50[0][0]     \n",
            "__________________________________________________________________________________________________\n",
            "conv2d_36 (Conv2D)              (None, 1, 1, 320)    307520      tf.nn.relu6_33[0][0]             \n",
            "__________________________________________________________________________________________________\n",
            "conv2d_37 (Conv2D)              (None, 1, 1, 320)    51520       batch_normalization_48[0][0]     \n",
            "__________________________________________________________________________________________________\n",
            "batch_normalization_51 (BatchNo (None, 1, 1, 320)    1280        conv2d_36[0][0]                  \n",
            "__________________________________________________________________________________________________\n",
            "add_4 (Add)                     (None, 1, 1, 320)    0           conv2d_37[0][0]                  \n",
            "                                                                 batch_normalization_51[0][0]     \n",
            "__________________________________________________________________________________________________\n",
            "conv2d_38 (Conv2D)              (None, 1, 1, 1280)   410880      add_4[0][0]                      \n",
            "__________________________________________________________________________________________________\n",
            "batch_normalization_52 (BatchNo (None, 1, 1, 1280)   5120        conv2d_38[0][0]                  \n",
            "__________________________________________________________________________________________________\n",
            "average_pooling2d (AveragePooli (None, 1, 1, 1280)   0           batch_normalization_52[0][0]     \n",
            "__________________________________________________________________________________________________\n",
            "conv2d_39 (Conv2D)              (None, 1, 1, 10)     12810       average_pooling2d[0][0]          \n",
            "__________________________________________________________________________________________________\n",
            "batch_normalization_53 (BatchNo (None, 1, 1, 10)     40          conv2d_39[0][0]                  \n",
            "__________________________________________________________________________________________________\n",
            "flatten (Flatten)               (None, 10)           0           batch_normalization_53[0][0]     \n",
            "__________________________________________________________________________________________________\n",
            "dense (Dense)                   (None, 128)          1408        flatten[0][0]                    \n",
            "__________________________________________________________________________________________________\n",
            "dense_1 (Dense)                 (None, 10)           1290        dense[0][0]                      \n",
            "==================================================================================================\n",
            "Total params: 2,350,060\n",
            "Trainable params: 2,315,864\n",
            "Non-trainable params: 34,196\n",
            "__________________________________________________________________________________________________\n"
          ],
          "name": "stdout"
        }
      ]
    }
  ]
}